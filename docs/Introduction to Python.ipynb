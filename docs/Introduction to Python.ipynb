{
 "cells": [
  {
   "cell_type": "markdown",
   "metadata": {
    "nbgrader": {
     "grade": false,
     "grade_id": "cell-8935ce2efd1530c2",
     "locked": true,
     "schema_version": 3,
     "solution": false,
     "task": false
    },
    "tags": []
   },
   "source": [
    "# Introduction to Python"
   ]
  },
  {
   "cell_type": "markdown",
   "metadata": {
    "nbgrader": {
     "grade": false,
     "grade_id": "cell-9fda59272f72b395",
     "locked": true,
     "schema_version": 3,
     "solution": false,
     "task": false
    },
    "tags": []
   },
   "source": [
    "## Variables"
   ]
  },
  {
   "cell_type": "markdown",
   "metadata": {
    "nbgrader": {
     "grade": false,
     "grade_id": "cell-beb4674346cf0a3c",
     "locked": true,
     "schema_version": 3,
     "solution": false,
     "task": false
    },
    "tags": []
   },
   "source": [
    "### Assignment NR 1 \n",
    "\n",
    "Create five different variables\n",
    "\n",
    "These should be as follows:\n",
    "\n",
    "A: Integer\n",
    "\n",
    "B: Float\n",
    "\n",
    "C: String\n",
    "\n",
    "D: Boolean\n",
    "\n",
    "E: List"
   ]
  },
  {
   "cell_type": "code",
   "execution_count": 15,
   "metadata": {
    "nbgrader": {
     "grade": false,
     "grade_id": "cell-2b117bf24c2bc84f",
     "locked": false,
     "schema_version": 3,
     "solution": true,
     "task": false
    },
    "tags": []
   },
   "outputs": [],
   "source": [
    "### BEGIN SOLUTION\n",
    "A= 2\n",
    "B= 3.5\n",
    "C= \"Hello World\"\n",
    "D= False\n",
    "E= [\"A\",\"B\"]\n",
    "### END SOLUTION"
   ]
  },
  {
   "cell_type": "code",
   "execution_count": 16,
   "metadata": {
    "nbgrader": {
     "grade": true,
     "grade_id": "cell-0d290c45e645f07e",
     "locked": true,
     "points": 1,
     "schema_version": 3,
     "solution": false,
     "task": false
    },
    "tags": []
   },
   "outputs": [],
   "source": [
    "assert isinstance(A, int)"
   ]
  },
  {
   "cell_type": "code",
   "execution_count": 17,
   "metadata": {
    "nbgrader": {
     "grade": true,
     "grade_id": "cell-b1fff53c641c7b0d",
     "locked": true,
     "points": 1,
     "schema_version": 3,
     "solution": false,
     "task": false
    },
    "tags": []
   },
   "outputs": [],
   "source": [
    "assert isinstance(B, float)"
   ]
  },
  {
   "cell_type": "code",
   "execution_count": 18,
   "metadata": {
    "nbgrader": {
     "grade": true,
     "grade_id": "cell-d4d59ed9672e2a86",
     "locked": true,
     "points": 1,
     "schema_version": 3,
     "solution": false,
     "task": false
    },
    "tags": []
   },
   "outputs": [],
   "source": [
    "assert isinstance(C, str)"
   ]
  },
  {
   "cell_type": "code",
   "execution_count": 19,
   "metadata": {
    "nbgrader": {
     "grade": true,
     "grade_id": "cell-520cb870ee432dfd",
     "locked": true,
     "points": 1,
     "schema_version": 3,
     "solution": false,
     "task": false
    },
    "tags": []
   },
   "outputs": [],
   "source": [
    "assert isinstance(D, bool)"
   ]
  },
  {
   "cell_type": "code",
   "execution_count": 20,
   "metadata": {
    "nbgrader": {
     "grade": true,
     "grade_id": "cell-46ad3dcda74281cc",
     "locked": true,
     "points": 1,
     "schema_version": 3,
     "solution": false,
     "task": false
    },
    "tags": []
   },
   "outputs": [],
   "source": [
    "assert isinstance(E, list)"
   ]
  },
  {
   "cell_type": "markdown",
   "metadata": {
    "nbgrader": {
     "grade": false,
     "grade_id": "cell-a60872b50fe3806f",
     "locked": true,
     "schema_version": 3,
     "solution": false,
     "task": false
    },
    "tags": []
   },
   "source": [
    "## Simple Operations"
   ]
  },
  {
   "cell_type": "markdown",
   "metadata": {
    "nbgrader": {
     "grade": false,
     "grade_id": "cell-7aa58d03d15b1e04",
     "locked": true,
     "schema_version": 3,
     "solution": false,
     "task": false
    },
    "tags": []
   },
   "source": [
    "### Assigment NR 2\n",
    "\n",
    "Now we do some simple addition and subtraction \n",
    "\n",
    "Create two new variables\n",
    "\n",
    "SUM: Add A and B together\n",
    "\n",
    "MULTIPLY: Multiply A and B together"
   ]
  },
  {
   "cell_type": "code",
   "execution_count": 29,
   "metadata": {
    "nbgrader": {
     "grade": false,
     "grade_id": "cell-778548d1dd6f4342",
     "locked": false,
     "schema_version": 3,
     "solution": true,
     "task": false
    },
    "tags": []
   },
   "outputs": [],
   "source": [
    "### BEGIN SOLUTION\n",
    "SUM= A+B\n",
    "MULTIPLY= A*B\n",
    "### END SOLUTION"
   ]
  },
  {
   "cell_type": "code",
   "execution_count": 30,
   "metadata": {
    "nbgrader": {
     "grade": true,
     "grade_id": "cell-af1a2716bc031a75",
     "locked": true,
     "points": 1,
     "schema_version": 3,
     "solution": false,
     "task": false
    },
    "tags": []
   },
   "outputs": [],
   "source": [
    "assert (SUM == A+B)"
   ]
  },
  {
   "cell_type": "code",
   "execution_count": 31,
   "metadata": {
    "nbgrader": {
     "grade": true,
     "grade_id": "cell-5b84a812571001fb",
     "locked": true,
     "points": 1,
     "schema_version": 3,
     "solution": false,
     "task": false
    },
    "tags": []
   },
   "outputs": [],
   "source": [
    "assert (MULTIPLY == A*B)"
   ]
  },
  {
   "cell_type": "markdown",
   "metadata": {
    "nbgrader": {
     "grade": false,
     "grade_id": "cell-7aa58d03d15b1e04",
     "locked": true,
     "schema_version": 3,
     "solution": false,
     "task": false
    },
    "tags": []
   },
   "source": [
    "### Assigment NR 3\n",
    "\n",
    "One of the most important operations within Python is the print() statement\n",
    "\n",
    "print out the result of your SUM and MULTIPLY Operation\n",
    "\n",
    "Also print out the type of these operations using the type() function"
   ]
  },
  {
   "cell_type": "code",
   "execution_count": 33,
   "metadata": {
    "nbgrader": {
     "grade": false,
     "grade_id": "cell-75127fe96710e70a",
     "locked": false,
     "schema_version": 3,
     "solution": true,
     "task": false
    },
    "tags": []
   },
   "outputs": [
    {
     "name": "stdout",
     "output_type": "stream",
     "text": [
      "5.5\n",
      "7.0\n",
      "<class 'float'>\n",
      "<class 'float'>\n"
     ]
    }
   ],
   "source": [
    "### BEGIN SOLUTION\n",
    "print (SUM)\n",
    "print(MULTIPLY)\n",
    "print(type(SUM))\n",
    "print(type(MULTIPLY))\n",
    "### END SOLUTION"
   ]
  },
  {
   "cell_type": "code",
   "execution_count": 35,
   "metadata": {
    "nbgrader": {
     "grade": true,
     "grade_id": "cell-d32a94a739815222",
     "locked": true,
     "points": 2,
     "schema_version": 3,
     "solution": false,
     "task": false
    },
    "tags": []
   },
   "outputs": [],
   "source": [
    "assert isinstance(SUM,float)\n",
    "assert isinstance(MULTIPLY, float)"
   ]
  },
  {
   "cell_type": "markdown",
   "metadata": {
    "nbgrader": {
     "grade": false,
     "grade_id": "cell-cb939aac64197493",
     "locked": true,
     "schema_version": 3,
     "solution": false,
     "task": false
    },
    "tags": []
   },
   "source": [
    "## Lists"
   ]
  },
  {
   "cell_type": "markdown",
   "metadata": {
    "nbgrader": {
     "grade": false,
     "grade_id": "cell-265efb7e2b3004f1",
     "locked": true,
     "schema_version": 3,
     "solution": false,
     "task": false
    },
    "tags": []
   },
   "source": [
    "### Assignment NR 4\n",
    "\n",
    "Create a list PRIME with the following values and order: 2, 3, 5, 7, 11, 13, 17\n",
    "\n",
    "Then the create a subset SUBTEN of all PRIME values smaller than 10"
   ]
  },
  {
   "cell_type": "code",
   "execution_count": 38,
   "metadata": {
    "nbgrader": {
     "grade": false,
     "grade_id": "cell-a2918293e2e9aaee",
     "locked": false,
     "schema_version": 3,
     "solution": true,
     "task": false
    },
    "tags": []
   },
   "outputs": [],
   "source": [
    "### BEGIN SOLUTION\n",
    "PRIME = [2,3,5,7,11,13,17]\n",
    "SUBTEN = PRIME[0:4]\n",
    "### END SOLUTION"
   ]
  },
  {
   "cell_type": "code",
   "execution_count": 39,
   "metadata": {
    "nbgrader": {
     "grade": true,
     "grade_id": "cell-6399decb4436256e",
     "locked": true,
     "points": 2,
     "schema_version": 3,
     "solution": false,
     "task": false
    },
    "tags": []
   },
   "outputs": [],
   "source": [
    "assert (PRIME == [2,3,5,7,11,13,17])\n",
    "assert (SUBTEN == [2,3,5,7])"
   ]
  },
  {
   "cell_type": "markdown",
   "metadata": {
    "nbgrader": {
     "grade": false,
     "grade_id": "cell-f583a6ddafd51b16",
     "locked": true,
     "schema_version": 3,
     "solution": false,
     "task": false
    },
    "tags": []
   },
   "source": [
    "## Dictionaries"
   ]
  },
  {
   "cell_type": "markdown",
   "metadata": {
    "nbgrader": {
     "grade": false,
     "grade_id": "cell-93cb38463287b550",
     "locked": true,
     "schema_version": 3,
     "solution": false,
     "task": false
    },
    "tags": []
   },
   "source": [
    "### Assignment NR 5\n",
    "\n",
    "Create a dictionary TUWIEN that includes the following keys:\n",
    "\n",
    "Name: TU Wien\n",
    "\n",
    "Location: Vienna\n",
    "\n",
    "Students: 42000\n",
    "\n",
    "Founded: 1815\n",
    "\n"
   ]
  },
  {
   "cell_type": "code",
   "execution_count": 40,
   "metadata": {
    "nbgrader": {
     "grade": false,
     "grade_id": "cell-467c0c91da83c1c3",
     "locked": false,
     "schema_version": 3,
     "solution": true,
     "task": false
    },
    "tags": []
   },
   "outputs": [],
   "source": [
    "### BEGIN SOLUTION\n",
    "TUWIEN = {'Name': 'TU Wien', 'Location': 'Vienna', 'Students': '42000', \"Founded\": 1815}\n",
    "### END SOLUTION"
   ]
  },
  {
   "cell_type": "code",
   "execution_count": 41,
   "metadata": {
    "nbgrader": {
     "grade": true,
     "grade_id": "cell-d0629aa844a668eb",
     "locked": true,
     "points": 0,
     "schema_version": 3,
     "solution": false,
     "task": false
    },
    "tags": []
   },
   "outputs": [],
   "source": [
    "assert (TUWIEN=={'Name': 'TU Wien', 'Location': 'Vienna', 'Students': '42000', \"Founded\": 1815} )"
   ]
  },
  {
   "cell_type": "markdown",
   "metadata": {
    "nbgrader": {
     "grade": false,
     "grade_id": "cell-93cb38463287b550",
     "locked": true,
     "schema_version": 3,
     "solution": false,
     "task": false
    },
    "tags": []
   },
   "source": [
    "### Assignment NR 6\n",
    "\n",
    "Now let's update the number of students to 43000\n",
    "\n",
    "Also delete the key \"Founded\"\n",
    "\n"
   ]
  },
  {
   "cell_type": "code",
   "execution_count": 44,
   "metadata": {
    "nbgrader": {
     "grade": false,
     "grade_id": "cell-1ae9c032144fab01",
     "locked": false,
     "schema_version": 3,
     "solution": true,
     "task": false
    },
    "tags": []
   },
   "outputs": [],
   "source": [
    "### BEGIN SOLUTION\n",
    "TUWIEN['Students']=43000\n",
    "del TUWIEN['Founded']\n",
    "### END SOLUTION"
   ]
  },
  {
   "cell_type": "code",
   "execution_count": 47,
   "metadata": {
    "nbgrader": {
     "grade": true,
     "grade_id": "cell-b59c617109cf7e1b",
     "locked": true,
     "points": 0,
     "schema_version": 3,
     "solution": false,
     "task": false
    },
    "tags": []
   },
   "outputs": [],
   "source": [
    "assert (TUWIEN['Students'] == 43000)\n",
    "assert ('Founded' not in TUWIEN)"
   ]
  },
  {
   "cell_type": "markdown",
   "metadata": {
    "nbgrader": {
     "grade": false,
     "grade_id": "cell-316b28963f03a680",
     "locked": true,
     "schema_version": 3,
     "solution": false,
     "task": false
    },
    "tags": []
   },
   "source": [
    "## Loops"
   ]
  },
  {
   "cell_type": "markdown",
   "metadata": {
    "nbgrader": {
     "grade": false,
     "grade_id": "cell-de98f75ed9cf0b9e",
     "locked": true,
     "schema_version": 3,
     "solution": false,
     "task": false
    },
    "tags": []
   },
   "source": [
    "### Assignment NR 7\n",
    "In this assigment we will create both a for loop and a while loop\n",
    "\n",
    "The Goal of the for loop will be to add all integers from 0 to 10\n",
    "\n",
    "The result of the for loop should be saved within the variable SUM_FOR\n",
    "\n",
    "The result of the while loop should be saved within the variables SUM_WHILE\n"
   ]
  },
  {
   "cell_type": "code",
   "execution_count": 66,
   "metadata": {
    "nbgrader": {
     "grade": false,
     "grade_id": "cell-b8943fa1ffa8bee7",
     "locked": false,
     "schema_version": 3,
     "solution": true,
     "task": false
    },
    "tags": []
   },
   "outputs": [],
   "source": [
    "### BEGIN SOLUTION\n",
    "SUM_FOR = 0\n",
    "for x in range(0,11):\n",
    "    SUM_FOR += x\n",
    "\n",
    "\n",
    "SUM_WHILE = 0\n",
    "x=0\n",
    "while x <= 10:\n",
    "    SUM_WHILE = x + SUM_WHILE\n",
    "    x = x + 1\n",
    "\n",
    "### END SOLUTION"
   ]
  },
  {
   "cell_type": "code",
   "execution_count": 67,
   "metadata": {
    "nbgrader": {
     "grade": true,
     "grade_id": "cell-7ce8c4913f8d86a3",
     "locked": true,
     "points": 0,
     "schema_version": 3,
     "solution": false,
     "task": false
    },
    "tags": []
   },
   "outputs": [],
   "source": [
    "assert (SUM_FOR == 55)\n",
    "assert (SUM_WHILE == 55)"
   ]
  },
  {
   "cell_type": "markdown",
   "metadata": {
    "nbgrader": {
     "grade": false,
     "grade_id": "cell-11bb9091fe9e8fd5",
     "locked": true,
     "schema_version": 3,
     "solution": false,
     "task": false
    },
    "tags": []
   },
   "source": [
    "## Conditions\n",
    "\n",
    "### Assignment NR 8\n",
    "\n",
    "Let's assume you want to check a list of strings for the lengths of the strings inside\n",
    "\n",
    "All Strings shorter than or equal to 5 characters should be counted within the variable SHORT\n",
    "\n",
    "All Strings longer than 5 characters will be counted within the variable LONG\n",
    "\n",
    "TIP: you can find the length of an item using len(list[index])\n",
    "\n",
    "Create a Loop that iterates through all items within any given list and check for the two given conditions.\n"
   ]
  },
  {
   "cell_type": "code",
   "execution_count": 80,
   "metadata": {
    "nbgrader": {
     "grade": false,
     "grade_id": "cell-8aa4f5e9e32f30e7",
     "locked": false,
     "schema_version": 3,
     "solution": true,
     "task": false
    },
    "tags": []
   },
   "outputs": [],
   "source": [
    "def List_Length_Check(list):\n",
    "    SHORT = 0\n",
    "    LONG = 0\n",
    "    length = len(list)\n",
    "    ### BEGIN SOLUTION\n",
    "    for i in range(length):\n",
    "        if len(list[i]) <=5:\n",
    "            SHORT += 1\n",
    "        else:\n",
    "            LONG += 1\n",
    "    ### END SOLUTION\n",
    "    return SHORT, LONG"
   ]
  },
  {
   "cell_type": "code",
   "execution_count": 86,
   "metadata": {
    "nbgrader": {
     "grade": true,
     "grade_id": "cell-f57c122dd606ffba",
     "locked": true,
     "points": 2,
     "schema_version": 3,
     "solution": false,
     "task": false
    },
    "tags": []
   },
   "outputs": [],
   "source": [
    "assert (List_Length_Check([\"adfadfdasf\",\"adsf\",\"adfadfdasf\"]) == (1,2))\n",
    "\n",
    "assert (List_Length_Check([\"asd\",\"adsf\",\"asd\"]) == (3,0))"
   ]
  },
  {
   "cell_type": "markdown",
   "metadata": {
    "nbgrader": {
     "grade": false,
     "grade_id": "cell-0801a23328dda5fe",
     "locked": true,
     "schema_version": 3,
     "solution": false,
     "task": false
    },
    "tags": []
   },
   "source": [
    "## Functions\n",
    "\n",
    "In this part you will create your own functions\n",
    "\n",
    "### Assignment NR 9\n",
    "\n",
    "create a function that takes in a list of measurements that were taken in m. Our goal is to convert the entire list into feet\n",
    "\n",
    "TIP: conversion of meters to feet is 1 m = 3.28084 ft"
   ]
  },
  {
   "cell_type": "code",
   "execution_count": 89,
   "metadata": {
    "nbgrader": {
     "grade": false,
     "grade_id": "cell-8944638593b7eea6",
     "locked": false,
     "schema_version": 3,
     "solution": true,
     "task": false
    },
    "tags": []
   },
   "outputs": [],
   "source": [
    "def meter_to_feet(list):\n",
    "    ### BEGIN SOLUTION\n",
    "    x = len (list)\n",
    "    for i in range(x):\n",
    "        list[i] = list[i]*3.28084\n",
    "    return list\n",
    "    ### END SOLUTION"
   ]
  },
  {
   "cell_type": "code",
   "execution_count": 91,
   "metadata": {
    "nbgrader": {
     "grade": true,
     "grade_id": "cell-39d95876b5f20ec0",
     "locked": true,
     "points": 2,
     "schema_version": 3,
     "solution": false,
     "task": false
    },
    "tags": []
   },
   "outputs": [],
   "source": [
    "assert (meter_to_feet([1,5,6]) == [3.28084, 16.4042, 19.68504])"
   ]
  },
  {
   "cell_type": "markdown",
   "metadata": {
    "nbgrader": {
     "grade": false,
     "grade_id": "cell-e79413e254c46376",
     "locked": true,
     "schema_version": 3,
     "solution": false,
     "task": false
    },
    "tags": []
   },
   "source": [
    "### Assignment NR 10\n",
    "\n",
    "The final assignment for this capter will be to create a function that takes two arguments and create a list from these.\n",
    "\n",
    "The first value will be an integer to which we will count.\n",
    "\n",
    "The second will also be an integer.\n",
    "\n",
    "The goal is to create a create list (starting from 1) of every integer within but omitting those that are divisible by the second one.\n",
    "\n",
    "Example. First number 10, second number 5. Output should be [0,1,2,3,4,6,7,8,9]"
   ]
  },
  {
   "cell_type": "code",
   "execution_count": 98,
   "metadata": {
    "nbgrader": {
     "grade": true,
     "grade_id": "cell-6237173a2ffe17e2",
     "locked": false,
     "points": 0,
     "schema_version": 3,
     "solution": true,
     "task": false
    },
    "tags": []
   },
   "outputs": [],
   "source": [
    "def Division_By(first, second):\n",
    "    new_list=[]\n",
    "    ### BEGIN SOLUTION\n",
    "    for i in range(first):\n",
    "        if i%second == 0:\n",
    "            continue\n",
    "        else:\n",
    "            new_list.append(i)\n",
    "    return new_list\n",
    "    ### END SOLUTION"
   ]
  },
  {
   "cell_type": "code",
   "execution_count": 101,
   "metadata": {
    "nbgrader": {
     "grade": true,
     "grade_id": "cell-6e4e44a8a35af91a",
     "locked": true,
     "points": 0,
     "schema_version": 3,
     "solution": false,
     "task": false
    },
    "tags": []
   },
   "outputs": [],
   "source": [
    "assert (Division_By(20,10)== [1, 2, 3, 4, 5, 6, 7, 8, 9, 11, 12, 13, 14, 15, 16, 17, 18, 19])"
   ]
  }
 ],
 "metadata": {
  "kernelspec": {
   "display_name": "Python 3 (ipykernel)",
   "language": "python",
   "name": "python3"
  },
  "language_info": {
   "codemirror_mode": {
    "name": "ipython",
    "version": 3
   },
   "file_extension": ".py",
   "mimetype": "text/x-python",
   "name": "python",
   "nbconvert_exporter": "python",
   "pygments_lexer": "ipython3",
   "version": "3.8.11"
  }
 },
 "nbformat": 4,
 "nbformat_minor": 4
}
